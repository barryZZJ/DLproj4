{
 "cells": [
  {
   "cell_type": "code",
   "execution_count": null,
   "metadata": {
    "collapsed": true
   },
   "outputs": [],
   "source": [
    "!pip install nibabel\n",
    "!pip install SimpleITK"
   ]
  },
  {
   "cell_type": "code",
   "execution_count": null,
   "outputs": [],
   "source": [
    "from obsmanip import OBS\n",
    "bucket_name = 'zzjmnist'\n",
    "base_path = 'DLproj4'\n",
    "obs = OBS(bucket_name, base_path)"
   ],
   "metadata": {
    "collapsed": false,
    "pycharm": {
     "name": "#%%\n"
    }
   }
  },
  {
   "cell_type": "code",
   "execution_count": null,
   "outputs": [],
   "source": [
    "pyfiles = [filename for filename in obs.listdir('.') if filename.endswith('.py')]\n",
    "for filename in pyfiles:\n",
    "    obs.downloadFile(filename, filename)"
   ],
   "metadata": {
    "collapsed": false,
    "pycharm": {
     "name": "#%%\n"
    }
   }
  },
  {
   "cell_type": "code",
   "execution_count": null,
   "outputs": [],
   "source": [
    "import zipfile\n",
    "\n",
    "def mkdir(path):\n",
    "    if not os.path.exists(path):\n",
    "        os.mkdir(path)\n",
    "def mkobsdir(path, obs:OBS):\n",
    "    if not obs.exists(obs.abspath(path)):\n",
    "        obs.mkdir(path)\n",
    "\n",
    "def download(use_aug, auglist, extract_labels=True):\n",
    "    mkdir('./data')\n",
    "    # obs.downloadDir('./data/imagesTr_Cut', './data/imagesTr_Cut')\n",
    "    # obs.downloadDir('./data/labelsTr_Cut', './data/labelsTr_Cut')\n",
    "    obs.downloadDir('./data/imagesTr_2d', './data/imagesTr_2d')\n",
    "    if not extract_labels:\n",
    "        obs.downloadDir('./data/labelsTr_2d', './data/labelsTr_2d')\n",
    "    else:\n",
    "        obs.downloadFile('./data/labelsTr_2d.zip', './data/labelsTr_2d.zip')\n",
    "        zip_file = zipfile.ZipFile('./data/labelsTr_2d.zip')\n",
    "        zip_list = zip_file.namelist()  # 得到压缩包里所有文件\n",
    "\n",
    "        for f in zip_list:\n",
    "            zip_file.extract(f, './data/labelsTr_2d')  # 循环解压文件到指定目录\n",
    "\n",
    "        zip_file.close()  # 关闭文件，必须有，释放内存\n",
    "\n",
    "    if use_aug:\n",
    "        for augmethod in auglist:\n",
    "            obs.downloadDir(f'./data/imagesTr_{augmethod}', f'./data/imagesTr_{augmethod}')\n",
    "            obs.downloadDir(f'./data/labelsTr_{augmethod}', f'./data/labelsTr_{augmethod}')\n",
    "\n",
    "    os.listdir('./data')"
   ],
   "metadata": {
    "collapsed": false,
    "pycharm": {
     "name": "#%%\n"
    }
   }
  },
  {
   "cell_type": "code",
   "execution_count": null,
   "outputs": [],
   "source": [
    "import torch\n",
    "import os\n",
    "import gc\n",
    "from dice import *\n",
    "from torch import nn\n",
    "from dataloader import *\n",
    "from models import UNet, UNetv2, UNet3d, ResUNet, R2UNet\n",
    "\n",
    "config = {\n",
    "    'optimizer': 'adam',\n",
    "    'sgd':{'lr':0.1,\n",
    "           'momentum':0.9},\n",
    "    'adam':{'lr': 0.001,\n",
    "            'betas': (0.9, 0.999),\n",
    "            'eps':1e-08,\n",
    "            'weight_decay': 0.001,\n",
    "            'amsgrad': True},\n",
    "\n",
    "    'batch_size': 8,\n",
    "    'do_resize': False, # 我们上传的是已经处理好的图片，因此不再使用resize\n",
    "    'use_aug': False,\n",
    "    'auglist': ['Lr', 'Ud', 'Rot', 'Turn', 'Shift', 'Zoom', 'Gamma'], # 已经实现的增强方案\n",
    "    'read2D_image': True, # 使用已切片的2d图像\n",
    "    \"epochs\": 200,\n",
    "    'test_every': 10, # 每几个epoch测试一次\n",
    "    'save_every': 10,\n",
    "    'save_dir': './checkpoint',\n",
    "    'device': torch.device(\"cuda\" if torch.cuda.is_available() else \"cpu\")\n",
    "    }\n",
    "config_debug = {\"lr\": 0.1,\n",
    "                'momentum': 0.9,\n",
    "                'batch_size': 8,\n",
    "                'do_resize': False, # 我们上传的是已经处理好的图片，因此不再使用resize\n",
    "                'use_aug': False,\n",
    "                'auglist': ['Lr', 'Ud'], # 已经实现的增强方案\n",
    "                \"epochs\": 200,\n",
    "                'test_every': 10, # 每几个epoch测试一次\n",
    "                'save_every': 10,\n",
    "                }\n",
    "DEBUG = False\n",
    "if DEBUG:\n",
    "    for key,val in config_debug.items():\n",
    "        config[key]=val\n",
    "\n",
    "config['tostr'] = lambda : f\"opt{config['optimizer']}_{'_'.join(['{}{}'.format(key, val) for key, val in config[config['optimizer']].items()])}_bs{config['batch_size']}\" + (f\"_aug{''.join(sorted(config['auglist']))}\" if config['use_aug'] else '')\n"
   ],
   "metadata": {
    "collapsed": false,
    "pycharm": {
     "name": "#%%\n"
    }
   }
  },
  {
   "cell_type": "code",
   "execution_count": null,
   "outputs": [],
   "source": [
    "download(config['use_aug'], config['auglist'])"
   ],
   "metadata": {
    "collapsed": false,
    "pycharm": {
     "name": "#%%\n"
    }
   }
  },
  {
   "cell_type": "code",
   "execution_count": null,
   "outputs": [],
   "source": [
    "def load_checkpoint_if_exists(model, save_dir, obs:OBS):\n",
    "    save_dir = os.path.join(save_dir, config['tostr']())\n",
    "    if obs.exists(obs.abspath(save_dir)):\n",
    "        files = [int(filename[:-4]) for filename in obs.listdir(save_dir) if filename.endswith('.pth')]\n",
    "    else:\n",
    "        print(obs.pre(obs.abspath(save_dir)), \"does not exists\")\n",
    "        files = []\n",
    "\n",
    "    if files:\n",
    "        max_file = os.path.join(save_dir, f\"{max(files)}.pth\")\n",
    "        print(\"load\", max_file)\n",
    "        obs.downloadFile(max_file, max_file)\n",
    "        model.load_state_dict(torch.load(max_file))\n",
    "        return max(files)\n",
    "    print('load checkpoint fail')\n",
    "    return 0\n",
    "\n",
    "def save_loss(filename, losses, save_dir, obs:OBS):\n",
    "    mkdir(save_dir)\n",
    "    mkobsdir(save_dir, obs)\n",
    "    save_dir = os.path.join(save_dir, config['tostr']())\n",
    "    mkdir(save_dir)\n",
    "    mkobsdir(save_dir, obs)\n",
    "    file = os.path.join(save_dir, f'{filename}.csv')\n",
    "\n",
    "    with open(file, 'a') as f:\n",
    "        f.writelines(losses)\n",
    "\n",
    "    with obs.open(file, 'a') as f:\n",
    "        f.writelines(losses)\n",
    "\n",
    "def save_model(model, epoch, save_dir, obs:OBS):\n",
    "    mkdir(save_dir)\n",
    "    mkobsdir(save_dir, obs)\n",
    "    save_dir = os.path.join(save_dir, config['tostr']())\n",
    "    mkdir(save_dir)\n",
    "    mkobsdir(save_dir, obs)\n",
    "    file = os.path.join(save_dir, f'{epoch}.pth')\n",
    "\n",
    "    torch.save(model.state_dict(), file)\n",
    "    obs.uploadFile(file, file)\n",
    "    print(\"upload to\", obs.pre(obs.abspath(file)))\n",
    "\n",
    "def train(model, device, train_loader, optimizer):\n",
    "    model = model.to(device)\n",
    "    model.train()\n",
    "    loss_save = 0\n",
    "    dice_save = 0\n",
    "    total = 0\n",
    "\n",
    "    criterion = nn.BCEWithLogitsLoss().to(device)\n",
    "    # criterion = DiceLoss().to(device)\n",
    "\n",
    "    for batch_idx, (x, labels) in enumerate(train_loader):\n",
    "        gc.collect()\n",
    "        x, labels = x.to(device), labels.to(device)\n",
    "        y_pred = model(x)\n",
    "        loss = criterion(y_pred, labels)\n",
    "\n",
    "        loss_save += loss.item() * labels.size(0)\n",
    "        loss.backward()\n",
    "        total += labels.size(0)\n",
    "\n",
    "        dice_save += dice_coef(y_pred, labels)\n",
    "\n",
    "        optimizer.step()\n",
    "        optimizer.zero_grad()\n",
    "        torch.cuda.empty_cache()\n",
    "\n",
    "    gc.collect()\n",
    "\n",
    "    loss_save /= total\n",
    "    dice_save /= total\n",
    "    return loss_save, dice_save\n",
    "\n",
    "def pred(model, device, test_loader):\n",
    "    model.to(device)\n",
    "    model.eval()\n",
    "    with torch.no_grad():\n",
    "        batch_idx, (x, labels) = next(test_loader)\n",
    "        x, labels = x.to(device), labels.to(device)\n",
    "        y_pred = model(x)\n",
    "    return y_pred\n",
    "\n",
    "\n",
    "def test(model, device, test_loader):\n",
    "    model.to(device)\n",
    "    model.eval()\n",
    "    loss_save = 0\n",
    "    dice_save = 0\n",
    "    total = 0\n",
    "\n",
    "    criterion = nn.BCEWithLogitsLoss().to(device)\n",
    "    # criterion = DiceLoss().to(device)\n",
    "\n",
    "    with torch.no_grad():\n",
    "        for batch_idx, (x, labels) in enumerate(test_loader):\n",
    "            gc.collect()\n",
    "            x, labels = x.to(device), labels.to(device)\n",
    "            y_pred = model(x)\n",
    "            loss = criterion(y_pred, labels)\n",
    "\n",
    "            loss_save += loss.item() * labels.size(0)\n",
    "            total += labels.size(0)\n",
    "\n",
    "            dice_save += dice_coef(y_pred, labels)\n",
    "            torch.cuda.empty_cache()\n",
    "\n",
    "    gc.collect()\n",
    "\n",
    "    loss_save /= total\n",
    "    dice_save /= total\n",
    "    return loss_save, dice_save"
   ],
   "metadata": {
    "collapsed": false,
    "pycharm": {
     "name": "#%%\n"
    }
   }
  },
  {
   "cell_type": "code",
   "execution_count": null,
   "outputs": [],
   "source": [
    "if __name__ == \"__main__\":\n",
    "\n",
    "    # device\n",
    "    device = config['device']\n",
    "    # load data\n",
    "    train_loader, test_loader = load_data(config['batch_size'], config['do_resize'], config['use_aug'], config['auglist'], config['read2D_image'])\n",
    "\n",
    "    # model = UNet(n_channels=1, n_classes=1, bilinear=False) # TODO bilinear?\n",
    "    model = UNetv2(img_ch=1, output_ch=1)\n",
    "\n",
    "    if config['optimizer'] == 'sgd':\n",
    "        optimizer = torch.optim.SGD(model.parameters(), **config['sgd'])\n",
    "    else:\n",
    "        optimizer = torch.optim.Adam(model.parameters(), **config['adam'])\n",
    "\n",
    "    start_epoch = load_checkpoint_if_exists(model, config['save_dir'], obs)\n",
    "\n",
    "    test_losses = []\n",
    "    test_dices = []\n",
    "\n",
    "    for epoch in range(1+start_epoch, config['epochs']+1):\n",
    "        print(f'### Train ### Epoch: {epoch}')\n",
    "        loss, dice = train(model, device, train_loader, optimizer)\n",
    "        train_loader.dataset.shuffle() # 每个epoch shuffle\n",
    "        print(f'loss: {loss}\\tdice: {dice}')\n",
    "        save_loss('train_loss', [','.join([str(epoch), str(loss)]), '\\n'], config['save_dir'], obs)\n",
    "        # save_loss('train_dice', [','.join([str(epoch), str(dice)]), '\\n'], config['save_dir'], obs)\n",
    "\n",
    "        if epoch % config['test_every'] == 0:\n",
    "            tloss, tdice = test(model, device, test_loader)\n",
    "            test_losses.append(','.join([str(epoch), str(tloss)]))\n",
    "            test_losses.append('\\n')\n",
    "            test_dices.append(','.join([str(epoch), str(tdice)]))\n",
    "            test_dices.append('\\n')\n",
    "            print(f'### Test ### Epoch: {epoch}')\n",
    "            print(f'loss: {tloss}\\tdice: {tdice}')\n",
    "\n",
    "        if epoch % config['save_every'] == 0:\n",
    "            save_model(model, epoch, config['save_dir'], obs)\n",
    "            # save_loss('test_loss', test_losses, config['save_dir'], obs)\n",
    "            save_loss('test_dice', test_dices, config['save_dir'], obs)\n",
    "            test_losses = []\n",
    "            test_dices = []"
   ],
   "metadata": {
    "collapsed": false,
    "pycharm": {
     "name": "#%%\n"
    }
   }
  }
 ],
 "metadata": {
  "kernelspec": {
   "display_name": "Python 3",
   "language": "python",
   "name": "python3"
  },
  "language_info": {
   "codemirror_mode": {
    "name": "ipython",
    "version": 2
   },
   "file_extension": ".py",
   "mimetype": "text/x-python",
   "name": "python",
   "nbconvert_exporter": "python",
   "pygments_lexer": "ipython2",
   "version": "2.7.6"
  }
 },
 "nbformat": 4,
 "nbformat_minor": 0
}